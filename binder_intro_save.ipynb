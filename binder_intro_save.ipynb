{
 "cells": [
  {
   "cell_type": "markdown",
   "metadata": {},
   "source": [
    "\n",
    "# Welcome to Binder: your analytics environment!\n",
    "\n",
    "Binder is an online service that provides you with a working space to build and share code. Binder supports different coding languages and many of them can be used to solve analytics problems. Currently the most popular coding languages for analytics (specially for beginers) are R and python. While it can be usefull to spend time learning a coding language, many of the analytics tasks can be done using basic coding commands and leveraging pre-made codes which are called packages or libraries. For our tasks we will be using python and specifically using what we call a Jupyter notebook.\\\n",
    "A Jupyter notebook is an interactive coding environement for python which lets you test code by yourself but it is also organised like a notebook so it can be structured as a learning course. \n",
    "\n",
    "So what you are looking at right now is the Jupyter notebook environment, hosted by the Binder service so that it can be shared with you.\n",
    "\n",
    "For this introduction we will help you get familiar with the notebook environment and introduce some of the basic and usefull python concepts and commands. Don't worry, you don't have to memorise any of this. All of the commands you will see here can be googled. It is more important to understand the concepts so that you know what to google for!\n",
    "\n",
    "We can recommand the following Python tutorial if you want to learn more <font color='blue'>**https://campus.datacamp.com/courses/intro-to-python-for-data-science/chapter-1-python-basics?ex=1**</font>.\n",
    "\n",
    "Before we start, it is important to know that you can edit every part of this notebook. You can modify the text, the code, delete anything or add anything. None of it will be permanent. If you re-open the binder link, the environement will reset to it's original state. \n",
    "\n",
    "<font color='blue'>**You cannot break anything! So feel free experimenting.**</font>\n",
    "\n",
    "## 1. Notebook layout\n",
    "\n",
    "You can open and close the table of content by clicking on the symbol on the left side (marked in orange in the figure below). From this you can navigate to the different sections of the notebook.\n",
    "\n",
    "At the top of the screen you have a drop down menu which you will not need for this project. The icon menu on the top (highlighted in blue) will have everything you need to navigate the tasks.\\ \n",
    "Under the menu is the main body of the notebook. This main part is organised in sections which are called 'cells'. We are using only 2 type of cells: markdown cells and coding cells. We will provide more details on cell types further down.\n",
    "\n",
    "<img src=\"./images/Jupyter2.png\" width=\"80%\"/>\n",
    "\n",
    "## 2. Jupyter notebook menus\n",
    "\n",
    "Let us have a closer look at the top icons menu. The only icons we care about for this project are highlighted in the figure below.\n",
    "\n",
    "<img src=\"./images/Jupyter0.png\" width=\"100%\"/>\n",
    "\n",
    "The 2 most important menu commands are:\n",
    "\n",
    "- Run full notebook: it is always good to do this first when you open a binder exercise. This will execute all the cells\n",
    "- Run cell: this will execute the selected cell and then move forward. Always remember that you need to select the cell you want to run by clicking on it.\n",
    "\n",
    "Often code cells depends on each other. This means that in order to run successfully the 5th cell you need to make sure you already ran the previous 4 in order. This also means that if you make it to cell 5 but then you want to change the code in cell 3, to have the changes reflect all the way through to cell 5 you will need tu re-run cell 3 to 5.\\\n",
    "We will practice this later on.\n",
    "\n",
    "Next useful commands are:\n",
    "\n",
    "- Save checkpoint: this will save the current state of your notebook locally. This is not permanenet save. It is only valide during the work session. If you re-open the binder it will reset to it's original state. Make use of this save point while you are running through the notebook and specially if you make changes that you want to save.\n",
    "\n",
    "- Restore last checkpoint: if you make changes that you are not happy with, you can always restore the notebook to the last checkpoint state by using this command. Remeber, if all fails you can always re-open the binder link and start the session fresh.\n",
    "\n",
    "The remaining commands are related to editing the cells like adding a new cell, copy and pasting a cell ... etc. When adding a new cell, it defaults to a coding one. To change the cell type you can select the cell and use the drop down on the top right of the menu. For this project we will only be using markdown and code cells.\n",
    "\n",
    "There is also a download icon which lets you download the notebook file to keep for your own reference or to use as a starting point for any future coding. You will need to install Jupyter notebook locally in your computer to be able to read and run the file. For this project, you don't need to install anything. Binder provides all the required software in the cloud to run this coding environment for you.\n",
    "\n",
    "\n",
    "## 3. Cell types and operations\n",
    "\n",
    "As mentioned above, we will only use 2 types of cells:\n",
    "\n",
    "1. markdown cells, which contain titles, explanatory text and figures or tables. There is no analytical calculations in these cells. The section where you are reading this right now is a markdown cell.\n",
    "\n",
    "2. code cells, which contain actual python code. You can recognise code cells by the grey background and they also always have square brackets <font color='blue'>'[ ]:'</font>  with a number to the left of them.\n",
    "\n",
    "### A. Markdown cell and text styling\n",
    "\n",
    "Markdown cells can be edited by double clicking on them. If you do that you will be in the edit mode of the cell.\n",
    "Any modification to the cell will need to be validated by 'running' the cell. To run a cell, you just need to press the play button from the icons menu at the top.\n",
    "\n",
    "When in edit mode of a markdown cell, you will find that there are special ways to style text. Markdown supports adding rich content by using HTML code. Don't worry, you don't need much to understand how to edit markdown cells and we will cover the basics for you. In fact, you wouldn't need to edit any markdown cells to get through the exercises for this project. \n",
    "\n",
    "\n",
    "Some of the things you can do in markdown cells:\n",
    "\n",
    "\n",
    "**Headers:** lines starting with a '#' symbol are headers. The number of '#' symbols represent the header level. This is an example of different header levels. If you switch to edit mode you can see how it is done (please note the 'space' between the '#' symbol and the header text).\n",
    "\n",
    "# Header1\n",
    "## Header2\n",
    "### Header3\n",
    "\n",
    "\n",
    "**Text colour:** You can colour text in a markdown cell by encapsulating the text between what we call html tags and change colour selection:\n",
    "\n",
    "<font color='green'>'This text is green'</font>\n",
    "\n",
    "<font color='blue'>'This text is blue'</font>\n",
    "\n",
    "<font color='red'>'This text is red'</font>\n",
    "\n",
    "**Bold and italic fonts:** If you encapsulate text between '*' it will display in italic and if you use '**' instead then it will be display in bold. Combine both for bold italic text.\n",
    "\n",
    "*This text is in italics*\n",
    "\n",
    "**This text is in bold**\n",
    "\n",
    "***this text is both in bold and italics***\n",
    "\n",
    "**Creating lists:** you can create bullet point lists by using a single '*' at the start of the line or a numbered list by using a number followed by a dot '.'. Sub items just need to be indented. Here is an example:\n",
    "\n",
    "* this is first item of a bullet list\n",
    "* second item of bullet list\n",
    "    * sub-item of bullet list\n",
    "    \n",
    "1. first item of numbered list\n",
    "2. second item of numbered list\n",
    "    1. sub-item A\n",
    "    2. sub-item B\n",
    "\n",
    "Try it out! Click twice on this cell and see how the edit mode looks like. Find where the html tags that define the text colour and change the colour to something else. You can type in more text, add a title or just change the title level by adding more '#' symbols at the start.\\\n",
    "When done, just run the cell by pressing the play botton on the top menu and see the changes reflected in the notebook.\n",
    "\n",
    "There are more things like how to add a figure, a table or insert mathematical symbols. It is easy to google these out and you can also just check how we did the styling for this document.\n",
    "\n",
    "### B. Runing code\n",
    "\n",
    "Running a code cell is a bit different from running a markdown cell. Markdown cells can have anything in them. The worst thing that can happen when modifying a markdown cell is that your text styling will be wrong but you will still be able to 'run' the cell. In the other hand, a coding cell needs to contain valid code to 'run' correctly. If you code is not correct, you will get an error message.\\\n",
    "If your code calls for a result (like a calculation result or a print statement), the result of the 'run' will be displayed right under the code block. This also include the error message if your code is wrong. The result of the code (or we can also call it the output) will still be part of the coding cell block (i.e. when you select a code cell with a result you will see that the selection includes the full code and result blocks). If you change the code in the cell and re-run it, the result will change accordingly. \n",
    "\n",
    "**Useful tip:** If you prefer using your keyboard, you can run a cell by just pressing Shift+Enter.\n",
    "\n",
    "If you have multiple cells in your Notebook, and you run the cells in order, you can share your variables and imports across cells. This makes it easy to separate your code into logical chunks without needing to reimport libraries or recreate variables or functions in every cell.\n",
    "\n",
    "When you run a cell, you will notice that the number within the square brackets to the left of the cell will change. This is auto-generated and reflects the order that you ran the cells. For example, if you open a fresh Notebook and run the first cell at the top of the Notebook, the square brackets will fill with the number 1.\n",
    "\n",
    "Let us practice running some code.\n",
    "\n",
    "Below are 5 code cells:\n",
    "\n",
    "1. first cell demonstrate how to define a text variables and how to print it out. Basically, anything between single quotation marks is considered text. A text variable is called a 'string'. Notice the result print out under the code cell. Try changing the printed text by changing the string variable.\n",
    "\n",
    "2. second cell shows you how to define numerical variables and run simple arithmetic operations. Notice that only the result of the final operation is printed under the code cell. This is because without 'print' statements, code execution while running all the lines, will only display the results of the last line of code.\n",
    "\n",
    "3. third cell uses print statements to print out the result of every calculation. Notice the displayed result under the code cell. \n",
    "\n",
    "4. fourth cell combines text and numerical print out. Notice how we used single quotation marks to define the string part and the use of the comma to separate the string and numerical variables.\n",
    "\n",
    "5. the last cell does not contain valid code and it will show an error message when you run the cell.\n",
    "\n",
    "This is a good time to save your session by using the save checkpoint from the tope menu. After saving, you can change the code in the cells in any way you want. Test your new code by running the cells. Remember, you can always revert to the last checkpoint using the top icons menu. If anything goes wrong, you can re-open the binder link to re-start the session! \n"
   ]
  },
  {
   "cell_type": "code",
   "execution_count": 22,
   "metadata": {
    "scrolled": false
   },
   "outputs": [
    {
     "name": "stdout",
     "output_type": "stream",
     "text": [
      "Hello world!\n"
     ]
    }
   ],
   "source": [
    "text_variable='Hello world!'\n",
    "print(text_variable)"
   ]
  },
  {
   "cell_type": "code",
   "execution_count": 23,
   "metadata": {},
   "outputs": [
    {
     "data": {
      "text/plain": [
       "20"
      ]
     },
     "execution_count": 23,
     "metadata": {},
     "output_type": "execute_result"
    }
   ],
   "source": [
    "x=4\n",
    "y=5\n",
    "x\n",
    "y\n",
    "x+y\n",
    "x-y\n",
    "x*y"
   ]
  },
  {
   "cell_type": "code",
   "execution_count": 24,
   "metadata": {},
   "outputs": [
    {
     "name": "stdout",
     "output_type": "stream",
     "text": [
      "4\n",
      "5\n",
      "9\n",
      "-1\n",
      "20\n"
     ]
    }
   ],
   "source": [
    "x=4\n",
    "y=5\n",
    "\n",
    "print(x)\n",
    "print(y)\n",
    "print(x+y)\n",
    "print(x-y)\n",
    "print(x*y)"
   ]
  },
  {
   "cell_type": "code",
   "execution_count": 25,
   "metadata": {},
   "outputs": [
    {
     "name": "stdout",
     "output_type": "stream",
     "text": [
      "x= 4\n",
      "y= 5\n",
      "x+y= 9\n",
      "x-y= -1\n",
      "x*y= 20\n"
     ]
    }
   ],
   "source": [
    "x=4\n",
    "y=5\n",
    "print('x=',x)\n",
    "print('y=',y)\n",
    "print('x+y=',x+y)\n",
    "print('x-y=',x-y)\n",
    "print('x*y=',x*y)"
   ]
  },
  {
   "cell_type": "code",
   "execution_count": 26,
   "metadata": {},
   "outputs": [
    {
     "ename": "SyntaxError",
     "evalue": "invalid syntax (<ipython-input-26-f503e6bdee69>, line 1)",
     "output_type": "error",
     "traceback": [
      "\u001b[0;36m  File \u001b[0;32m\"<ipython-input-26-f503e6bdee69>\"\u001b[0;36m, line \u001b[0;32m1\u001b[0m\n\u001b[0;31m    This is not valid python code\u001b[0m\n\u001b[0m                           ^\u001b[0m\n\u001b[0;31mSyntaxError\u001b[0m\u001b[0;31m:\u001b[0m invalid syntax\n"
     ]
    }
   ],
   "source": [
    "This is not valid python code"
   ]
  },
  {
   "cell_type": "markdown",
   "metadata": {},
   "source": [
    "## 4. Basic python\n",
    "\n",
    "Python is a general purpose coding language. It can be used for basic or advanced programing. It can be used to build applications or games but it can also handle numerical and data analysis for scientific research.\\\n",
    "In spite of being a high level language, Python is beginner friendly. It does not stress people with machine like language that is difficult to comprehend. Instead, it reads like the English language and after some time you get used to the syntax.\\\n",
    "By combining Python with Jupyter notebook as your coding environment, you can focus on mastering the concept of programming rather than get stuck on learning the language. \n",
    "\n",
    "There is a strong Python community and countless of online tutorials. If you are stuck or you don't know how to code something in Python, you can turn to forums dedicated to help you solve coding problems. One of the most well know ones is https://stackoverflow.com/questions/tagged/python. Every coder, regardless of their level of experience, have used stackoverflow to look up a solution or refresh their memory about a given command. Don't hesitate to use it!\n",
    "\n",
    "It’s common to start off with a code cell specifically for imports and setup. This is specifically needed if you are using special pre-built analytics packages. These packages (or libraries) will allow you to run various models or operations with minimal coding. To be able to use them you will need to import them first. The imported libraries will be valid to use throughout all the coding cells that follow the import cell.\n",
    "\n",
    "Here are some examples of import stataments (what is between square bracket should be replaced):\n",
    "\n",
    "1. Simple library import. For any subsequent code we will be able to call directly the library.\n",
    "\n",
    "**import** [Library]\n",
    "\n",
    "2. Import library using an alias. The alias can then be used in any subsequent code cell to call the library.\n",
    "\n",
    "**import** [Library] **as** [alias]\n",
    "\n",
    "3. Import a sub-module from a library. Sometimes, libraries will have various modules that can do different things. It is possible to import only the needed module. After the import, it is then possible to call the module directly by its name in any subsequent code.\n",
    "\n",
    "**From** [Library] **import** [module]\n",
    "\n",
    "Below is a python setup cell folowed by some examples of of library usage.\n",
    "\n",
    "1. in the first cell we imported the numpy library using the alias 'np' and we also imported the module date from the datetime library: \n",
    "    1. numpy is a math library that can handle numerical arrays and lets you run common statistical calculations.\n",
    "    2. the datetime library can handle date and time variables and operations.\n",
    "\n",
    "2- In the subsequent cells we show some examples of how to use the imported library and module. Notice the use of the alias instead of typing the name of the library.\n",
    "\n",
    "Remember, you don't need to memorise all of this, you can come back to this tutorial any time. Also, check out this Python cheat sheat for basic commands: \n",
    "https://s3.amazonaws.com/assets.datacamp.com/blog_assets/PythonForDataScience.pdf"
   ]
  },
  {
   "cell_type": "code",
   "execution_count": 43,
   "metadata": {},
   "outputs": [],
   "source": [
    "import numpy as np\n",
    "from datetime import date"
   ]
  },
  {
   "cell_type": "code",
   "execution_count": 45,
   "metadata": {},
   "outputs": [
    {
     "name": "stdout",
     "output_type": "stream",
     "text": [
      "today is  2022-06-01\n",
      "The square root of  4 is  2.0\n",
      "The mean of  [1, 2, 3, 4, 5] is  3.0\n"
     ]
    }
   ],
   "source": [
    "today = date.today()\n",
    "\n",
    "print('today is ', today)\n",
    "\n",
    "x=4\n",
    "\n",
    "square_root = np.sqrt(x)\n",
    "\n",
    "print('The square root of ',x,'is ',square_root)\n",
    "\n",
    "my_list=[1,2,3,4,5]\n",
    "\n",
    "mean_of_list = np.mean(my_list)\n",
    "\n",
    "print('The mean of ',my_list,'is ',mean_of_list)"
   ]
  },
  {
   "cell_type": "code",
   "execution_count": null,
   "metadata": {},
   "outputs": [],
   "source": []
  }
 ],
 "metadata": {
  "kernelspec": {
   "display_name": "Python 3",
   "language": "python",
   "name": "python3"
  },
  "language_info": {
   "codemirror_mode": {
    "name": "ipython",
    "version": 3
   },
   "file_extension": ".py",
   "mimetype": "text/x-python",
   "name": "python",
   "nbconvert_exporter": "python",
   "pygments_lexer": "ipython3",
   "version": "3.7.9"
  }
 },
 "nbformat": 4,
 "nbformat_minor": 4
}
